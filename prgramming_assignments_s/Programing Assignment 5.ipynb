{
 "cells": [
  {
   "cell_type": "code",
   "execution_count": 1,
   "id": "4439404d-7afd-4001-aa42-c34cbf1e5b54",
   "metadata": {},
   "outputs": [],
   "source": [
    "#1.Write a Python Program to Find LCM?"
   ]
  },
  {
   "cell_type": "code",
   "execution_count": 1,
   "id": "67ef1066-501f-4e11-990a-35f7b1fc0554",
   "metadata": {},
   "outputs": [],
   "source": [
    "def lcm():\n",
    "    try:\n",
    "        n1=int(input(\"Enter the first number: \"))\n",
    "        n2=int(input(\"Enter the second number: \"))\n",
    "        if n1==0 or n2==0:\n",
    "            print(\"invalid input\")\n",
    "        else:\n",
    "            if n1>n2:\n",
    "                higher=n1\n",
    "            else:\n",
    "                higher=n2\n",
    "            value=higher\n",
    "            while True:\n",
    "                if higher%n1==0 and higher%n2==0:\n",
    "                    print(f\"LCM of {n1} and {n2} is {higher}\")\n",
    "                    break\n",
    "                else:\n",
    "                    higher=higher+value\n",
    "    except Exception as e:\n",
    "        print(e)"
   ]
  },
  {
   "cell_type": "code",
   "execution_count": 2,
   "id": "23155dac-7742-407d-8711-039f30e0fe90",
   "metadata": {},
   "outputs": [
    {
     "name": "stdin",
     "output_type": "stream",
     "text": [
      "Enter the first number:  75806543\n",
      "Enter the second number:  5643369\n"
     ]
    },
    {
     "name": "stdout",
     "output_type": "stream",
     "text": [
      "LCM of 75806543 and 5643369 is 427804294763367\n"
     ]
    }
   ],
   "source": [
    "lcm()"
   ]
  },
  {
   "cell_type": "code",
   "execution_count": null,
   "id": "ad549fc7-2881-4255-9921-e8d776bbca55",
   "metadata": {},
   "outputs": [],
   "source": [
    "#2.Write a Python Program to Find HCF?"
   ]
  },
  {
   "cell_type": "code",
   "execution_count": 14,
   "id": "2eda1532-04d7-4f47-af4b-4f94046493af",
   "metadata": {},
   "outputs": [],
   "source": [
    "def lcm_hcf():\n",
    "    try:\n",
    "        n1=int(input(\"Enter the first number: \"))\n",
    "        n2=int(input(\"Enter the second number: \"))\n",
    "        if n1==0 or n2==0:\n",
    "            print(\"invalid input\")\n",
    "        else:\n",
    "            if n1>n2:\n",
    "                higher=n1\n",
    "            else:\n",
    "                higher=n2\n",
    "            value=higher\n",
    "            while True:\n",
    "                if higher%n1==0 and higher%n2==0:\n",
    "                    print(f\"LCM of {n1} and {n2} is {higher}\")\n",
    "                    break\n",
    "                else:\n",
    "                    higher=higher+value\n",
    "            lcm=higher\n",
    "            hcf=((n1*n2)/lcm)\n",
    "            print(f\"The HCF of {n1} and {n2} is {hcf}\")\n",
    "          \n",
    "    except Exception as e:\n",
    "        print(e)"
   ]
  },
  {
   "cell_type": "code",
   "execution_count": 15,
   "id": "328d8d18-e75b-4a54-a445-4f5e6b1a157a",
   "metadata": {},
   "outputs": [
    {
     "name": "stdin",
     "output_type": "stream",
     "text": [
      "Enter the first number:  15\n",
      "Enter the second number:  30\n"
     ]
    },
    {
     "name": "stdout",
     "output_type": "stream",
     "text": [
      "LCM of 15 and 30 is 30\n",
      "The HCF of 15 and 30 is 15.0\n"
     ]
    }
   ],
   "source": [
    "lcm_hcf()"
   ]
  },
  {
   "cell_type": "code",
   "execution_count": null,
   "id": "dbe978dc-ed43-4ede-9560-ed92ac8c074f",
   "metadata": {},
   "outputs": [],
   "source": [
    "#OR"
   ]
  },
  {
   "cell_type": "code",
   "execution_count": 26,
   "id": "f061eaad-523e-4b7d-82cb-c30885be28a2",
   "metadata": {},
   "outputs": [],
   "source": [
    "def hcf():\n",
    "    try:\n",
    "        n1=int(input(\"Enter the first number: \"))\n",
    "        n2=int(input(\"Enter the second number: \"))\n",
    "        if n1==0 or n2==0:\n",
    "            print(\"invalid input\")\n",
    "        else:\n",
    "            if n2>n1:\n",
    "                smaller=n1\n",
    "            else:\n",
    "                smaller=n2\n",
    "            for i in range(1,smaller+1):\n",
    "                 if n1%i==0 and n2%i==0:\n",
    "                        HCF=i\n",
    "            print(f\"HCF of {n1} and  {n2} is {HCF}\")          \n",
    "    except Exception as e:\n",
    "        print(e)"
   ]
  },
  {
   "cell_type": "code",
   "execution_count": 27,
   "id": "36a4be57-6935-45cc-b402-46395b81a857",
   "metadata": {},
   "outputs": [
    {
     "name": "stdin",
     "output_type": "stream",
     "text": [
      "Enter the first number:  2\n",
      "Enter the second number:  3\n"
     ]
    },
    {
     "name": "stdout",
     "output_type": "stream",
     "text": [
      "HCF of 2 and  3 is 1\n"
     ]
    }
   ],
   "source": [
    "hcf()"
   ]
  },
  {
   "cell_type": "code",
   "execution_count": null,
   "id": "2af94e40-c922-46d7-9b8b-25441faf6e6e",
   "metadata": {},
   "outputs": [],
   "source": [
    "#3.Write a Python Program to Convert Decimal to Binary, Octal and Hexadecimal?"
   ]
  },
  {
   "cell_type": "code",
   "execution_count": 4,
   "id": "6b30f1e9-68ee-4401-acef-954011f34ffe",
   "metadata": {},
   "outputs": [
    {
     "name": "stdin",
     "output_type": "stream",
     "text": [
      "Enter the number:  9654325\n"
     ]
    },
    {
     "name": "stdout",
     "output_type": "stream",
     "text": [
      "The Binary number for 9654325 is 0b100100110101000000110101\n",
      "The octal number for 9654325 is 0o44650065\n",
      "The Hexadecimal number for 9654325 is 0x935035\n"
     ]
    }
   ],
   "source": [
    "a=int(input(\"Enter the number: \"))\n",
    "b=bin(a)\n",
    "c=oct(a)\n",
    "d=hex(a)\n",
    "print(f\"The Binary number for {a} is {b}\")\n",
    "print(f\"The octal number for {a} is {c}\")\n",
    "print(f\"The Hexadecimal number for {a} is {d}\")"
   ]
  },
  {
   "cell_type": "code",
   "execution_count": null,
   "id": "236dbfe6-91ef-4980-8bdf-d72f36ce05e1",
   "metadata": {},
   "outputs": [],
   "source": [
    "#4.Write a Python Program To Find ASCII value of a character?"
   ]
  },
  {
   "cell_type": "code",
   "execution_count": 6,
   "id": "3a6f1d6e-9620-4389-9667-be5ead0c11b9",
   "metadata": {},
   "outputs": [
    {
     "name": "stdin",
     "output_type": "stream",
     "text": [
      "Enter the number:  d\n"
     ]
    },
    {
     "name": "stdout",
     "output_type": "stream",
     "text": [
      "The ASCII value of d is:  100\n"
     ]
    }
   ],
   "source": [
    "a=input(\"Enter the number: \")\n",
    "print(f\"The ASCII value of {a} is: \",ord(a))"
   ]
  },
  {
   "cell_type": "code",
   "execution_count": null,
   "id": "0972d3fe-c96e-4104-ad0f-919e2ea4a5cf",
   "metadata": {},
   "outputs": [],
   "source": [
    "#5.Write a Python Program to Make a Simple Calculator with 4 basic mathematical operations?"
   ]
  },
  {
   "cell_type": "code",
   "execution_count": 29,
   "id": "0785fa45-5b91-4673-a6f6-9465e5f7b156",
   "metadata": {},
   "outputs": [
    {
     "name": "stdin",
     "output_type": "stream",
     "text": [
      "Enter the number 1:  234\n",
      "Enter the number 2:  12\n"
     ]
    },
    {
     "name": "stdout",
     "output_type": "stream",
     "text": [
      "Press 1 to perform addition\n",
      "Press 2 to perform substraction\n",
      "Press 3 to perform multiplication\n",
      "Press 4 to perform division\n"
     ]
    },
    {
     "name": "stdin",
     "output_type": "stream",
     "text": [
      "Kindly press the number:  4\n"
     ]
    },
    {
     "name": "stdout",
     "output_type": "stream",
     "text": [
      "The division of 234 and 12 is 19.5 \n"
     ]
    }
   ],
   "source": [
    "a=int(input(\"Enter the number 1: \"))\n",
    "b=int(input(\"Enter the number 2: \"))\n",
    "print(\"Press 1 to perform addition\")\n",
    "print(\"Press 2 to perform substraction\")\n",
    "print(\"Press 3 to perform multiplication\")\n",
    "print(\"Press 4 to perform division\")\n",
    "c=int(input(\"Kindly press the number: \"))\n",
    "if c==1:\n",
    "        sm=a+b\n",
    "        print(f\"The addition of {a} and {b} is {sm} \")\n",
    "elif c==2:\n",
    "        subs=a-b\n",
    "        print(f\"The substraction of {a} and {b} is {subs} \")\n",
    "elif c==3:\n",
    "        mul=a*b\n",
    "        print(f\"The multiplication of {a} and {b} is {mul} \")\n",
    "elif c==4:\n",
    "    if b==0:\n",
    "        print(\" b value should be greater than zero Invalid Input\")\n",
    "    else:   \n",
    "        div=a/b\n",
    "        print(f\"The division of {a} and {b} is {div} \")\n"
   ]
  },
  {
   "cell_type": "markdown",
   "id": "980dfdfc-9bcb-4a9a-a08a-b3ddc49073e8",
   "metadata": {},
   "source": [
    "### "
   ]
  },
  {
   "cell_type": "code",
   "execution_count": null,
   "id": "93630a3b-d471-48ab-87f8-12bf5e380202",
   "metadata": {},
   "outputs": [],
   "source": []
  },
  {
   "cell_type": "code",
   "execution_count": null,
   "id": "9431f565-4e64-4ac7-bccb-21d11aaf12b9",
   "metadata": {},
   "outputs": [],
   "source": []
  },
  {
   "cell_type": "code",
   "execution_count": null,
   "id": "fc180262-9e30-417c-8b66-20ecb2ff293a",
   "metadata": {},
   "outputs": [],
   "source": []
  }
 ],
 "metadata": {
  "kernelspec": {
   "display_name": "Python 3 (ipykernel)",
   "language": "python",
   "name": "python3"
  },
  "language_info": {
   "codemirror_mode": {
    "name": "ipython",
    "version": 3
   },
   "file_extension": ".py",
   "mimetype": "text/x-python",
   "name": "python",
   "nbconvert_exporter": "python",
   "pygments_lexer": "ipython3",
   "version": "3.10.6"
  }
 },
 "nbformat": 4,
 "nbformat_minor": 5
}

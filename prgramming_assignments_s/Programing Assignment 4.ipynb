{
 "cells": [
  {
   "cell_type": "code",
   "execution_count": 15,
   "id": "36e97da3-74d3-4f4b-b854-c036ad309b3d",
   "metadata": {},
   "outputs": [],
   "source": [
    "#1.Write a Python Program to Find the Factorial of a Number?"
   ]
  },
  {
   "cell_type": "code",
   "execution_count": 17,
   "id": "fd2d8fe2",
   "metadata": {},
   "outputs": [
    {
     "name": "stdin",
     "output_type": "stream",
     "text": [
      "Enter the number for which the factorial needs to be calculated:  5\n"
     ]
    },
    {
     "name": "stdout",
     "output_type": "stream",
     "text": [
      "Factorial of the given number is: 120\n"
     ]
    }
   ],
   "source": [
    "n = int (input (\"Enter the number for which the factorial needs to be calculated: \"))\n",
    "factorial = 1\n",
    "if n < 0:\n",
    "         print (\"Factorial cannot be calculated, non-integer input\")\n",
    "elif n == 0:\n",
    "              print (\"Factorial of the number is 1\")\n",
    "else:\n",
    "     for i in range (1, n+1):\n",
    "            factorial = factorial *i\n",
    "     print(f\"Factorial of the given number is: {factorial}\")"
   ]
  },
  {
   "cell_type": "code",
   "execution_count": 18,
   "id": "7bb2bf6f",
   "metadata": {},
   "outputs": [],
   "source": [
    "#2.\tWrite a Python Program to Display the multiplication Table?"
   ]
  },
  {
   "cell_type": "code",
   "execution_count": 20,
   "id": "bea862a8",
   "metadata": {},
   "outputs": [
    {
     "name": "stdin",
     "output_type": "stream",
     "text": [
      "Enter the number:  12\n"
     ]
    },
    {
     "name": "stdout",
     "output_type": "stream",
     "text": [
      "here is the multiplication table of 12 is shown below \n",
      "12 x 1 = 12\n",
      "12 x 2 = 24\n",
      "12 x 3 = 36\n",
      "12 x 4 = 48\n",
      "12 x 5 = 60\n",
      "12 x 6 = 72\n",
      "12 x 7 = 84\n",
      "12 x 8 = 96\n",
      "12 x 9 = 108\n",
      "12 x 10 = 120\n"
     ]
    }
   ],
   "source": [
    "a=int(input(\"Enter the number: \"))\n",
    "print(f\"here is the multiplication table of {a} is shown below \")\n",
    "for i in range(1,11):\n",
    "    print(a,'x',i,'=',a*i)    "
   ]
  },
  {
   "cell_type": "code",
   "execution_count": 21,
   "id": "36911485",
   "metadata": {},
   "outputs": [],
   "source": [
    "#3.\tWrite a Python Program to Print the Fibonacci sequence?"
   ]
  },
  {
   "cell_type": "code",
   "execution_count": 22,
   "id": "fd2ddb8f-d543-40e9-bfe4-5114ba4afec7",
   "metadata": {},
   "outputs": [],
   "source": [
    "def fib():\n",
    "    a=0\n",
    "    b=1\n",
    "    n=int(input(\"enter the number: \"))\n",
    "    if n<=0:\n",
    "        print(\"Enter the positive number: \")\n",
    "    elif n==1:\n",
    "        print(f\"fibonacci  series for the number {n} is given below \\n {a}\")\n",
    "    elif n==2:\n",
    "        print(f\"fibonacci  series is for the number {n} is given below  \\n {a} \\n {b}\")\n",
    "    elif n>2:\n",
    "        print(f\"fibonacci  series is for the number {n} is given below \")\n",
    "        print(a)\n",
    "        print(b)\n",
    "        for i in range(3,n+1):\n",
    "            c=a+b\n",
    "            a=b\n",
    "            b=c\n",
    "            print(c)"
   ]
  },
  {
   "cell_type": "code",
   "execution_count": 23,
   "id": "bd18980c-befa-46eb-848d-12897a1e7370",
   "metadata": {},
   "outputs": [
    {
     "name": "stdin",
     "output_type": "stream",
     "text": [
      "enter the number:  6\n"
     ]
    },
    {
     "name": "stdout",
     "output_type": "stream",
     "text": [
      "fibonacci  series is for the number 6 is given below \n",
      "0\n",
      "1\n",
      "1\n",
      "2\n",
      "3\n",
      "5\n"
     ]
    }
   ],
   "source": [
    "fib()"
   ]
  },
  {
   "cell_type": "code",
   "execution_count": 49,
   "id": "da88cf04-3130-4679-8f45-c7b54d64ccab",
   "metadata": {},
   "outputs": [],
   "source": [
    "#4.\tWrite a Python Program to Check Armstrong Number?\n",
    "\n",
    "def check_armstrong():\n",
    "  num=int(input(\"Enter the positive number\"))\n",
    "  if num in range(1,10):\n",
    "    return True\n",
    "  power=len(str(num))\n",
    "  sum=0\n",
    "  orginal =num\n",
    "  while num>0:\n",
    "    digit=num%10\n",
    "    sum=sum+digit**power\n",
    "    num=num//10\n",
    "  if sum == orginal:\n",
    "    return \"armstrong number\"\n",
    "  else:\n",
    "    return \"Not a armstrong number\""
   ]
  },
  {
   "cell_type": "code",
   "execution_count": 50,
   "id": "65ddaa8c-9c26-4d30-ae93-6f7cee17bc8b",
   "metadata": {},
   "outputs": [
    {
     "name": "stdin",
     "output_type": "stream",
     "text": [
      "Enter the positive number 20\n"
     ]
    },
    {
     "data": {
      "text/plain": [
       "'Not a armstrong number'"
      ]
     },
     "execution_count": 50,
     "metadata": {},
     "output_type": "execute_result"
    }
   ],
   "source": [
    "check_armstrong()"
   ]
  },
  {
   "cell_type": "code",
   "execution_count": null,
   "id": "27ee92fd-aea0-45b5-b852-f4d0a0301dd6",
   "metadata": {},
   "outputs": [],
   "source": [
    "#5.Write a Python Program to Find Armstrong Number in an Interval?"
   ]
  },
  {
   "cell_type": "code",
   "execution_count": 30,
   "id": "9d6c91ef-4d55-4234-b0c1-fa170919b392",
   "metadata": {},
   "outputs": [
    {
     "name": "stdin",
     "output_type": "stream",
     "text": [
      "Enter the lower limit number:  1000\n",
      "Enter the higer limit number 2000\n"
     ]
    },
    {
     "name": "stdout",
     "output_type": "stream",
     "text": [
      "1634\n"
     ]
    }
   ],
   "source": [
    "lower=int(input(\"Enter the lower limit number: \"))\n",
    "upper=int(input(\"Enter the higer limit number\"))\n",
    "if lower<=0:\n",
    "    print(\"Invalid  lower limit value\")\n",
    "elif upper<=0:\n",
    "    print(\"Invalid  upper limit value\")\n",
    "else:\n",
    "    for num in range(lower,upper+1):\n",
    "        power=len(str(num))\n",
    "        sum=0\n",
    "        temp=num\n",
    "        while temp>0:\n",
    "            digit=temp%10\n",
    "            sum=sum+digit**power\n",
    "            temp=temp//10\n",
    "        if num==sum:\n",
    "            print(num)"
   ]
  },
  {
   "cell_type": "code",
   "execution_count": 36,
   "id": "6b4101d4-4379-45c3-99c8-b14555fcd2af",
   "metadata": {},
   "outputs": [],
   "source": [
    "#6.Write a Python Program to Find the Sum of Natural Numbers?"
   ]
  },
  {
   "cell_type": "code",
   "execution_count": 1,
   "id": "6b7cf444-f236-4d82-8c8d-b1ade57a4a40",
   "metadata": {},
   "outputs": [
    {
     "name": "stdin",
     "output_type": "stream",
     "text": [
      "Enter the number 55\n"
     ]
    },
    {
     "name": "stdout",
     "output_type": "stream",
     "text": [
      "1540.0\n"
     ]
    }
   ],
   "source": [
    "n=int(input(\"Enter the number\"))\n",
    "if n<=0:\n",
    "    print(\"Invalid input\")\n",
    "else:\n",
    "    sum=(n*(n+1))/2\n",
    "    print(sum)"
   ]
  },
  {
   "cell_type": "code",
   "execution_count": null,
   "id": "e02e5070-2c0b-460a-b2d8-b09ae2c24d40",
   "metadata": {},
   "outputs": [],
   "source": []
  }
 ],
 "metadata": {
  "kernelspec": {
   "display_name": "Python 3 (ipykernel)",
   "language": "python",
   "name": "python3"
  },
  "language_info": {
   "codemirror_mode": {
    "name": "ipython",
    "version": 3
   },
   "file_extension": ".py",
   "mimetype": "text/x-python",
   "name": "python",
   "nbconvert_exporter": "python",
   "pygments_lexer": "ipython3",
   "version": "3.10.6"
  }
 },
 "nbformat": 4,
 "nbformat_minor": 5
}
